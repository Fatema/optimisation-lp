{
 "cells": [
  {
   "cell_type": "code",
   "execution_count": 1,
   "metadata": {},
   "outputs": [],
   "source": [
    "import numpy as np\n",
    "from scipy.optimize import linprog\n",
    "import networkx"
   ]
  },
  {
   "cell_type": "code",
   "execution_count": 2,
   "metadata": {},
   "outputs": [
    {
     "name": "stdout",
     "output_type": "stream",
     "text": [
      "('Optimal value:', 15100.0, '\\nX:', array([660.,   0., 340.]))\n"
     ]
    }
   ],
   "source": [
    "A = np.array([[-1, -1, -1], [-1,2, 0], [0, 0, -1], [-1, 0, 0], [0, -1, 0]])\n",
    "b = np.array([-1000, 0, -340, 0, 0])\n",
    "c = np.array([10,15,25]) \n",
    "\n",
    "res = linprog(c, A_ub=A, b_ub=b,bounds=(0, None))\n",
    "\n",
    "print('Optimal value:', res.fun, '\\nX:', res.x)"
   ]
  },
  {
   "cell_type": "code",
   "execution_count": 3,
   "metadata": {},
   "outputs": [],
   "source": [
    "G1 = {1:set({}), 2:set({}), 3:set({})}\n",
    "G2 = {1:{2}, 2:{1}, 3:{}}\n",
    "G3 = {1:{2}, 2:{1,3}, 3:{2}}\n",
    "G4 = {1:{2,3}, 2:{1,3}, 3:{1,2}}"
   ]
  },
  {
   "cell_type": "markdown",
   "metadata": {},
   "source": [
    "Define function to get subsets of a graph vertices"
   ]
  },
  {
   "cell_type": "markdown",
   "metadata": {},
   "source": [
    "Define a function to return all possible subsests for list of vertices V"
   ]
  },
  {
   "cell_type": "code",
   "execution_count": 4,
   "metadata": {},
   "outputs": [],
   "source": [
    "def subsets(V, prefix=[], arr_sets=[]):\n",
    "    if V == []: return\n",
    "    for i in range(len(V)):\n",
    "        subset = prefix + [V[i]]\n",
    "        arr_sets += [subset]\n",
    "        subsets(V[i+1:], subset, arr_sets)"
   ]
  },
  {
   "cell_type": "code",
   "execution_count": 5,
   "metadata": {},
   "outputs": [
    {
     "data": {
      "text/plain": [
       "[[1], [1, 2], [1, 2, 3], [1, 3], [2], [2, 3], [3]]"
      ]
     },
     "execution_count": 5,
     "metadata": {},
     "output_type": "execute_result"
    }
   ],
   "source": [
    "arr_sets = []\n",
    "subsets(list(G1.keys()), arr_sets=arr_sets)\n",
    "arr_sets"
   ]
  },
  {
   "cell_type": "code",
   "execution_count": 6,
   "metadata": {},
   "outputs": [],
   "source": [
    "def check_clique(graph, v_set):\n",
    "    if len(v_set) < 2: return True\n",
    "    for i in range(len(v_set)):\n",
    "        i_set = set(v_set[:i] + v_set[i+1:])\n",
    "        g_set = graph[v_set[i]]\n",
    "        if i_set & g_set != i_set :\n",
    "            return False\n",
    "    return True"
   ]
  },
  {
   "cell_type": "code",
   "execution_count": 7,
   "metadata": {},
   "outputs": [],
   "source": [
    "def A_clique_set(graph, v_encode, subsets, A=[]):\n",
    "    for subset in subsets:\n",
    "        if check_clique(graph, subset):\n",
    "            A += [sum([v_encode[v] for v in subset])]"
   ]
  },
  {
   "cell_type": "code",
   "execution_count": 8,
   "metadata": {},
   "outputs": [],
   "source": [
    "def lp_clique(graph):\n",
    "    V = list(graph.keys())\n",
    "    v_encode = {}\n",
    "    v_num = len(V)\n",
    "    \n",
    "    for i in range(v_num):\n",
    "        temp = np.zeros(v_num)\n",
    "        temp[i] = -1\n",
    "        v_encode[V[i]] = temp\n",
    "    \n",
    "    arr_sets = []\n",
    "    subsets(V, arr_sets=arr_sets)\n",
    "    \n",
    "    b_clique = np.negative(np.ones(v_num))\n",
    "    A_clique = []\n",
    "    A_clique_set(graph, v_encode, arr_sets,A=A_clique)\n",
    "    A_clique = np.transpose(np.array(A_clique))\n",
    "    c_clique = np.ones(A_clique.shape[1])\n",
    "    \n",
    "    res = linprog(c_clique, A_ub=A_clique, b_ub=b_clique, bounds=(0, None))\n",
    "    return res, A_clique"
   ]
  },
  {
   "cell_type": "code",
   "execution_count": 9,
   "metadata": {},
   "outputs": [
    {
     "data": {
      "text/plain": [
       "(     con: array([], dtype=float64)\n",
       "     fun: 1.0\n",
       " message: 'Optimization terminated successfully.'\n",
       "     nit: 3\n",
       "   slack: array([0., 0., 0.])\n",
       "  status: 0\n",
       " success: True\n",
       "       x: array([0., 0., 1., 0., 0., 0., 0.]),\n",
       " array([[-1., -1., -1., -1.,  0.,  0.,  0.],\n",
       "        [ 0., -1., -1.,  0., -1., -1.,  0.],\n",
       "        [ 0.,  0., -1., -1.,  0., -1., -1.]]))"
      ]
     },
     "execution_count": 9,
     "metadata": {},
     "output_type": "execute_result"
    }
   ],
   "source": [
    "lp_clique(G4)"
   ]
  },
  {
   "cell_type": "code",
   "execution_count": 10,
   "metadata": {},
   "outputs": [],
   "source": [
    "def subsets_dict(V, prefix=set({}), arr_sets={}):\n",
    "    if V == []: return 1\n",
    "    for i in range(len(V)):\n",
    "        subset = prefix | {V[i]}\n",
    "        arr_sets[tuple(subset)] = len(arr_sets)\n",
    "        subsets_dict(V[i+1:], subset, arr_sets)"
   ]
  },
  {
   "cell_type": "code",
   "execution_count": 39,
   "metadata": {},
   "outputs": [],
   "source": [
    "def A_entropy_set(V, subsets_dict, A=[]):\n",
    "    num_sets = len(subsets_dict)\n",
    "    for subset in subsets_dict:\n",
    "        subset_len = len(subset)\n",
    "        if subset_len > 1:\n",
    "            subset_i = subsets_dict[subset]\n",
    "            a_lq = np.zeros(num_sets)\n",
    "            a_lq[subset_i] = -1 * (subset_len)\n",
    "            a_mq = np.zeros(num_sets)\n",
    "            a_mq[subset_i] = subset_len - 1\n",
    "            s = set(subset)\n",
    "            for v in subset:\n",
    "                sub_i = subsets_dict[tuple(x for x in subset if v != x)]\n",
    "                a_lq[sub_i] = 1    \n",
    "                a_mq[sub_i] = -1\n",
    "            A += [a_lq, a_mq]"
   ]
  },
  {
   "cell_type": "code",
   "execution_count": null,
   "metadata": {},
   "outputs": [],
   "source": [
    "def "
   ]
  },
  {
   "cell_type": "code",
   "execution_count": 40,
   "metadata": {},
   "outputs": [],
   "source": [
    "def lp_entropy(graph):\n",
    "    V = list(graph.keys())\n",
    "    v_encode = {}\n",
    "    v_num = len(V)\n",
    "    \n",
    "    for i in range(v_num):\n",
    "        temp = np.zeros(v_num)\n",
    "        temp[i] = -1\n",
    "        v_encode[V[i]] = temp\n",
    "    \n",
    "    arr_sets = {}\n",
    "    subsets_dict(V, arr_sets=arr_sets)\n",
    "    \n",
    "    A_entropy = []\n",
    "    A_entropy_set(V, arr_sets, A=A_entropy)\n",
    "    A_entropy = np.array(A_entropy)\n",
    "    b_clique = np.zeros(A_entropy.shape[0])\n",
    "#     c_clique = np.ones(A_clique.shape[1])\n",
    "    \n",
    "#     res = linprog(c_clique, A_ub=A_clique, b_ub=b_clique, bounds=(0, None))\n",
    "    return arr_sets, A_entropy"
   ]
  },
  {
   "cell_type": "code",
   "execution_count": 41,
   "metadata": {},
   "outputs": [
    {
     "data": {
      "text/plain": [
       "({(1,): 0, (1, 2): 1, (1, 2, 3): 2, (1, 3): 3, (2,): 4, (2, 3): 5, (3,): 6},\n",
       " [array([ 1., -2.,  0.,  0.,  1.,  0.,  0.]),\n",
       "  array([-1.,  1.,  0.,  0., -1.,  0.,  0.]),\n",
       "  array([ 1.,  0.,  0., -2.,  0.,  0.,  1.]),\n",
       "  array([-1.,  0.,  0.,  1.,  0.,  0., -1.]),\n",
       "  array([ 0.,  1., -3.,  1.,  0.,  1.,  0.]),\n",
       "  array([ 0., -1.,  2., -1.,  0., -1.,  0.]),\n",
       "  array([ 0.,  0.,  0.,  0.,  1., -2.,  1.]),\n",
       "  array([ 0.,  0.,  0.,  0., -1.,  1., -1.])])"
      ]
     },
     "execution_count": 41,
     "metadata": {},
     "output_type": "execute_result"
    }
   ],
   "source": [
    "lp_entropy(G1)"
   ]
  },
  {
   "cell_type": "code",
   "execution_count": null,
   "metadata": {},
   "outputs": [],
   "source": [
    "p = {\"g\":1}"
   ]
  },
  {
   "cell_type": "code",
   "execution_count": null,
   "metadata": {},
   "outputs": [],
   "source": [
    "l = [1,2,3]"
   ]
  },
  {
   "cell_type": "code",
   "execution_count": null,
   "metadata": {},
   "outputs": [],
   "source": [
    "set(tuple(l))"
   ]
  },
  {
   "cell_type": "code",
   "execution_count": null,
   "metadata": {},
   "outputs": [],
   "source": [
    "l"
   ]
  },
  {
   "cell_type": "code",
   "execution_count": null,
   "metadata": {},
   "outputs": [],
   "source": [
    "tuple(x for x in tuple(l) if 3 != x)"
   ]
  },
  {
   "cell_type": "code",
   "execution_count": null,
   "metadata": {},
   "outputs": [],
   "source": []
  }
 ],
 "metadata": {
  "kernelspec": {
   "display_name": "Python 2",
   "language": "python",
   "name": "python2"
  },
  "language_info": {
   "codemirror_mode": {
    "name": "ipython",
    "version": 2
   },
   "file_extension": ".py",
   "mimetype": "text/x-python",
   "name": "python",
   "nbconvert_exporter": "python",
   "pygments_lexer": "ipython2",
   "version": "2.7.15"
  }
 },
 "nbformat": 4,
 "nbformat_minor": 1
}
