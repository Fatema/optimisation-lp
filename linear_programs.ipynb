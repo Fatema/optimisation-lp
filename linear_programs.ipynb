{
 "cells": [
  {
   "cell_type": "code",
   "execution_count": 1,
   "metadata": {},
   "outputs": [],
   "source": [
    "import numpy as np\n",
    "from scipy.optimize import linprog\n",
    "from pymprog import *\n",
    "import networkx as nx\n",
    "import matplotlib\n",
    "import sympy as sy\n",
    "%matplotlib inline"
   ]
  },
  {
   "cell_type": "markdown",
   "metadata": {},
   "source": [
    "# Utility Functions\n",
    "The functions in this section are used throughout this notebook.\n",
    "- **draw_graph(G)**  \n",
    "  This function uses networkx package to draw the graph. The graph input is a dictionary of sets e.g. G = {1:{2}, 2:{1}}\n",
    "- **subsets(V, prefix, arr_sets)**  \n",
    "  This function creates all the possible subsets for the vertices of a graph. It takes a list of vertices and returns the generated sets in arr_sets list. \n",
    "- **subsets_dict(V, prefix, arr_sets)**   \n",
    "  This function creates all the possible subsets as keys with the subset expected position in the solution vector as the value for the vertices of a graph. It takes a list of vertices and returns the generated sets and their positions in arr_sets dictionary.\n",
    "- **remove_unconnected_v(graph)**  \n",
    "  This function takes a graph and returns the graph with all vertices that have at least one neighbour \n",
    "- **remove_duplicate_A(A=np.array([]))**  \n",
    "  This function removes all duplicated rows from matrix A as a result of modifing the constraints "
   ]
  },
  {
   "cell_type": "code",
   "execution_count": 2,
   "metadata": {},
   "outputs": [],
   "source": [
    "def draw_graph(G):\n",
    "    nx_G = nx.from_dict_of_lists(G)\n",
    "    nx.draw_networkx(nx_G)"
   ]
  },
  {
   "cell_type": "code",
   "execution_count": 3,
   "metadata": {},
   "outputs": [],
   "source": [
    "def subsets(V, prefix=[], arr_sets=[]):\n",
    "    if V == []: return\n",
    "    for i in range(len(V)):\n",
    "        subset = prefix + [V[i]]\n",
    "        arr_sets += [subset]\n",
    "        subsets(V[i+1:], subset, arr_sets)"
   ]
  },
  {
   "cell_type": "code",
   "execution_count": 4,
   "metadata": {},
   "outputs": [],
   "source": [
    "def subsets_dict(V, prefix=[], arr_sets={}):\n",
    "    if V == []: return 1\n",
    "    for i in range(len(V)):\n",
    "        subset = prefix + [V[i]]\n",
    "        arr_sets[tuple(subset)] = len(arr_sets)\n",
    "        subsets_dict(V[i+1:], subset, arr_sets)"
   ]
  },
  {
   "cell_type": "code",
   "execution_count": 5,
   "metadata": {},
   "outputs": [],
   "source": [
    "def remove_unconnected_v(graph):\n",
    "    keys = list(graph.keys())\n",
    "    for v in keys:\n",
    "        if len(graph[v]) == 0:\n",
    "            graph.pop(v, None)"
   ]
  },
  {
   "cell_type": "code",
   "execution_count": 6,
   "metadata": {},
   "outputs": [],
   "source": [
    "def remove_duplicate_A(A=np.array([])):\n",
    "    temp_a = np.ascontiguousarray(A)\n",
    "    unique_a = np.unique(temp_a.view([('', temp_a.dtype)]*temp_a.shape[1]))\n",
    "    A = unique_a.view(temp_a.dtype).reshape((unique_a.shape[0], temp_a.shape[1]))\n",
    "    return A"
   ]
  },
  {
   "cell_type": "markdown",
   "metadata": {},
   "source": [
    "# Linear Program for fractional clique number"
   ]
  },
  {
   "cell_type": "markdown",
   "metadata": {},
   "source": [
    "This function checks if a certain subset is a clique of a graph $G=(V,E)$ i.e. the subset $K$ satisfy the condition that for any distict $u,v \\in K$, $uv \\in E$"
   ]
  },
  {
   "cell_type": "code",
   "execution_count": 7,
   "metadata": {},
   "outputs": [],
   "source": [
    "def check_clique(graph, v_set):\n",
    "    if len(v_set) < 2: return True\n",
    "    for i in range(len(v_set)):\n",
    "        i_set = set(v_set[:i] + v_set[i+1:])\n",
    "        g_set = graph[v_set[i]]\n",
    "        if i_set & g_set != i_set :\n",
    "            return False\n",
    "    return True"
   ]
  },
  {
   "cell_type": "code",
   "execution_count": 8,
   "metadata": {},
   "outputs": [],
   "source": [
    "def A_clique_set(graph, v_encode, subsets, A=[], cliques=[]):\n",
    "    for subset in subsets:\n",
    "        if check_clique(graph, subset):\n",
    "            cliques += [tuple(subset)]\n",
    "            A += [sum([v_encode[v] for v in subset])]"
   ]
  },
  {
   "cell_type": "code",
   "execution_count": 9,
   "metadata": {},
   "outputs": [],
   "source": [
    "def lp_clique(graph, rational=True):\n",
    "    V = list(graph.keys())\n",
    "    v_encode = {}\n",
    "    v_num = len(V)\n",
    "    \n",
    "    for i in range(v_num):\n",
    "        temp = np.zeros(v_num)\n",
    "        temp[i] = -1\n",
    "        v_encode[V[i]] = temp\n",
    "    \n",
    "    arr_sets = []\n",
    "    subsets(V, arr_sets=arr_sets)\n",
    "    \n",
    "    b_clique = np.negative(np.ones(v_num))\n",
    "    A_clique = []\n",
    "    cliques = []\n",
    "    A_clique_set(graph, v_encode, arr_sets,A=A_clique, cliques=cliques)\n",
    "    A_clique = np.transpose(np.array(A_clique))\n",
    "    c_clique = np.ones(A_clique.shape[1])\n",
    "    \n",
    "    res = linprog(c_clique, A_ub=A_clique, b_ub=b_clique, bounds=(0, None))\n",
    "    \n",
    "    x_rational = list(map(lambda x : sy.nsimplify(x, tolerance=0.01), res.x))\n",
    "    \n",
    "    x_cliques = {}\n",
    "    for i in range(len(x_rational)):\n",
    "        x_cliques[cliques[i]] = x_rational[i]\n",
    "    \n",
    "    return sy.nsimplify(res.fun, tolerance=0.01), x_rational, x_cliques"
   ]
  },
  {
   "cell_type": "markdown",
   "metadata": {},
   "source": [
    "# Linear Program for Shannon entropy"
   ]
  },
  {
   "cell_type": "code",
   "execution_count": 10,
   "metadata": {},
   "outputs": [],
   "source": [
    "def entropy_eq_dict(graph, eq_dict={}):\n",
    "    for v in graph:\n",
    "        n = tuple(sorted(list(graph[v])))\n",
    "        n_v = tuple(sorted(list(graph[v] | {v})))\n",
    "        if n in eq_dict:\n",
    "            eq_dict[n_v] = eq_dict[n]\n",
    "        else:\n",
    "            eq_dict[n] = n_v    "
   ]
  },
  {
   "cell_type": "markdown",
   "metadata": {},
   "source": [
    "## using scipy"
   ]
  },
  {
   "cell_type": "code",
   "execution_count": 11,
   "metadata": {},
   "outputs": [],
   "source": [
    "def A_entropy_eq_set(subsets_dict, eq_dict, A=[]):\n",
    "    num_sets = len(subsets_dict)\n",
    "    for k in eq_dict:\n",
    "        v = eq_dict[k]\n",
    "        a_eq = np.zeros(num_sets)\n",
    "        a_eq[subsets_dict[k]] = 1\n",
    "        a_eq[subsets_dict[v]] = -1\n",
    "        A += [a_eq]"
   ]
  },
  {
   "cell_type": "code",
   "execution_count": 12,
   "metadata": {},
   "outputs": [],
   "source": [
    "def A_entropy_set(graph, subsets_dict, eq_dict,  A=[]):\n",
    "    num_sets = len(subsets_dict)\n",
    "    subsets = list(subsets_dict.keys())\n",
    "    for i in range(num_sets):\n",
    "        subset_i = subsets[i]\n",
    "        pos_i = subsets_dict[subset_i]\n",
    "        rep_i = subset_i in eq_dict\n",
    "        for j in range(i + 1, num_sets):\n",
    "            subset_j = subsets[j]\n",
    "            pos_j = subsets_dict[subset_j]\n",
    "            rep_j = subset_j in eq_dict            \n",
    "            \n",
    "            val_i, val_j = (), ()\n",
    "            \n",
    "            if rep_i:\n",
    "                pos_i = subsets_dict[eq_dict[subset_i]]\n",
    "            if rep_j:\n",
    "                pos_j = subsets_dict[eq_dict[subset_j]]\n",
    "\n",
    "            subset_i_s = set(subset_i)\n",
    "            subset_j_s = set(subset_j)\n",
    "            subset_ij_u = tuple(subset_i_s | subset_j_s)\n",
    "            subset_ij_i = tuple(subset_i_s & subset_j_s)\n",
    "            \n",
    "            pos_u = subsets_dict[subset_ij_u]\n",
    "            \n",
    "            if subset_ij_u in eq_dict:\n",
    "                pos_u = subsets_dict[eq_dict[subset_ij_u]]\n",
    "            \n",
    "            if (subset_ij_i == subset_i or subset_ij_i == subset_j):\n",
    "                if pos_i == pos_j: \n",
    "                    continue\n",
    "                diff = len(subset_i) - len(subset_j)\n",
    "                a_mq = np.zeros(num_sets) \n",
    "                if diff == 1:\n",
    "                    a_mq[pos_i] = -1\n",
    "                    a_mq[pos_j] = 1\n",
    "                    A += [a_mq]\n",
    "                elif diff == -1:\n",
    "                    a_mq[pos_i] = 1\n",
    "                    a_mq[pos_j] = -1\n",
    "                    A += [a_mq]\n",
    "            else:\n",
    "                if ((pos_i == pos_u and pos_j != pos_u) or \n",
    "                (pos_j == pos_u and pos_i != pos_u)): \n",
    "                    continue\n",
    "                a_lq = np.zeros(num_sets) \n",
    "                \n",
    "                a_lq[pos_i] = -1\n",
    "                a_lq[pos_j] = -1\n",
    "                \n",
    "                if pos_i == pos_j == pos_u:\n",
    "                    continue\n",
    "                    a_lq[pos_u] = -1\n",
    "                else:\n",
    "                    a_lq[pos_u] = 1\n",
    "                \n",
    "                if len(subset_ij_i) > 0:\n",
    "                    if subset_ij_i in eq_dict:\n",
    "                        pos_ij = subsets_dict[eq_dict[subset_ij_i]]\n",
    "                        if pos_i != pos_j:\n",
    "                            if pos_i == pos_ij:\n",
    "                                a_lq[pos_i] = 0\n",
    "                            elif pos_j == pos_ij:\n",
    "                                a_lq[pos_j] = 0\n",
    "                            else:\n",
    "                                a_lq[pos_ij] = 1\n",
    "                    else:\n",
    "                        pos_ij = subsets_dict[subset_ij_i]\n",
    "                        a_lq[pos_ij] = 1\n",
    "                A += [a_lq]"
   ]
  },
  {
   "cell_type": "code",
   "execution_count": 13,
   "metadata": {},
   "outputs": [],
   "source": [
    "def add_v_Ab(V, subsets_dict, A=np.array([]), b=np.array([])):\n",
    "    A = list(A)\n",
    "    b = b.tolist()\n",
    "    print(len(A))\n",
    "    num_sets = len(subsets_dict)\n",
    "    for _v in V:\n",
    "        pos_v = subsets_dict[(_v,)]\n",
    "        temp_a = np.zeros(num_sets)\n",
    "        temp_a[pos_v] = 1\n",
    "        A += [temp_a]\n",
    "        b += [1]\n",
    "    return np.array(A), np.array(b)"
   ]
  },
  {
   "cell_type": "code",
   "execution_count": 14,
   "metadata": {},
   "outputs": [],
   "source": [
    "def lp_entropy(graph):\n",
    "    # remove all isolated vertices from the graph\n",
    "    remove_unconnected_v(graph)\n",
    "        \n",
    "    V = list(graph.keys())\n",
    "    v_num = len(V)\n",
    "    \n",
    "    if v_num == 0: return 0\n",
    "    \n",
    "    arr_sets = {}\n",
    "    subsets_dict(V, arr_sets=arr_sets)\n",
    "    \n",
    "    eq_dict = {}\n",
    "    entropy_eq_dict(graph, eq_dict=eq_dict)\n",
    "        \n",
    "    A_entropy = []\n",
    "    A_entropy_set(graph, arr_sets, eq_dict, A=A_entropy)\n",
    "    A_entropy = np.array(A_entropy)\n",
    "    \n",
    "    A_entropy = remove_duplicate_A(A=A_entropy)\n",
    "    b_entropy = np.zeros(A_entropy.shape[0])\n",
    "    \n",
    "    A_entropy, b_entropy = add_v_Ab(V, arr_sets, A=A_entropy, b=b_entropy)\n",
    "    \n",
    "    A_entropy_eq = []\n",
    "    A_entropy_eq_set(arr_sets, eq_dict, A=A_entropy_eq)\n",
    "    A_entropy_eq = np.array(A_entropy_eq)\n",
    "    b_entropy_eq = np.zeros(A_entropy_eq.shape[0])\n",
    "    \n",
    "    c_clique = np.zeros(len(arr_sets))\n",
    "    c_clique[arr_sets[tuple(V)]] = -1\n",
    "        \n",
    "    res = linprog(c_clique, A_ub=A_entropy, b_ub=b_entropy, A_eq=A_entropy_eq, b_eq=b_entropy_eq, bounds=(0, None), options={'maxiter':1e6, 'tol':1e-6})\n",
    "    \n",
    "    x_rational = list(map(lambda x : sy.nsimplify(x, tolerance=0.01),res.x))\n",
    "    x = {}\n",
    "    keys = list(arr_sets.keys())\n",
    "    for i in range(len(x_rational)):\n",
    "        x[keys[i]] = x_rational[i]\n",
    "    \n",
    "    return res.fun * -1, x_rational, x"
   ]
  },
  {
   "cell_type": "markdown",
   "metadata": {},
   "source": [
    "## using pymprog"
   ]
  },
  {
   "cell_type": "code",
   "execution_count": 15,
   "metadata": {},
   "outputs": [],
   "source": [
    "def lp_entropy(graph, verbose=False):\n",
    "    # remove all isolated vertices from the graph\n",
    "    remove_unconnected_v(graph)\n",
    "        \n",
    "    V = list(graph.keys())\n",
    "    v_num = len(V)\n",
    "    \n",
    "    if v_num == 0: return 0, np.zeros(2**v_num - 1)\n",
    "    \n",
    "    arr_sets = {}\n",
    "    subsets_dict(V, arr_sets=arr_sets)\n",
    "    \n",
    "    eq_dict = {}\n",
    "    entropy_eq_dict(graph, eq_dict=eq_dict)\n",
    "        \n",
    "    p = begin('shannon entropy')\n",
    "    \n",
    "    p.verbose(verbose) \n",
    "    \n",
    "    num_sets = len(arr_sets)\n",
    "    subsets = list(arr_sets.keys())\n",
    "    \n",
    "    x = p.var('x', num_sets)\n",
    "    \n",
    "    for i in range(num_sets):\n",
    "        subset_i = subsets[i]\n",
    "        pos_i = arr_sets[subset_i]\n",
    "        rep_i = subset_i in eq_dict\n",
    "        if len(subset_i) < 2:\n",
    "            x[pos_i] <= 1\n",
    "        for j in range(i + 1, num_sets):\n",
    "            subset_j = subsets[j]\n",
    "            pos_j = arr_sets[subset_j]\n",
    "            rep_j = subset_j in eq_dict            \n",
    "                        \n",
    "            if rep_i:\n",
    "                pos_i = arr_sets[eq_dict[subset_i]]\n",
    "            if rep_j:\n",
    "                pos_j = arr_sets[eq_dict[subset_j]]\n",
    "\n",
    "            subset_i_s = set(subset_i)\n",
    "            subset_j_s = set(subset_j)\n",
    "            subset_ij_u = tuple(sorted(list(subset_i_s | subset_j_s)))\n",
    "            subset_ij_i = tuple(sorted(list(subset_i_s & subset_j_s)))\n",
    "                        \n",
    "            pos_u = arr_sets[subset_ij_u]\n",
    "            \n",
    "            if subset_ij_u in eq_dict:\n",
    "                pos_u = arr_sets[eq_dict[subset_ij_u]]\n",
    "            \n",
    "            if (subset_ij_i == subset_i or subset_ij_i == subset_j):\n",
    "                if pos_i == pos_j: \n",
    "                    continue\n",
    "                diff = len(subset_i) - len(subset_j)\n",
    "                if diff == 1:\n",
    "                    x[pos_j] <= x[pos_i]\n",
    "                elif diff == -1:\n",
    "                    x[pos_i] <= x[pos_j]\n",
    "            else:\n",
    "                if ((pos_i == pos_u and pos_j != pos_u) or \n",
    "                (pos_j == pos_u and pos_i != pos_u)): \n",
    "                    continue\n",
    "                        \n",
    "                if len(subset_ij_i) > 0:\n",
    "                    pos_ij = arr_sets[subset_ij_i]\n",
    "\n",
    "                    if subset_ij_i in eq_dict:\n",
    "                        pos_ij = arr_sets[eq_dict[subset_ij_i]]\n",
    "                                     \n",
    "                        if pos_i != pos_j:\n",
    "                            if pos_i == pos_ij:\n",
    "                                if pos_j in eq_dict:\n",
    "                                    eq_dict[subset_ij_u] = subset_j\n",
    "                                else:\n",
    "                                    eq_dict[subset_j] = subset_ij_u\n",
    "                            elif pos_j == pos_ij:\n",
    "                                if pos_i in eq_dict:\n",
    "                                    eq_dict[subset_ij_u] = subset_i\n",
    "                                else:\n",
    "                                    eq_dict[subset_i] = subset_ij_u\n",
    "                            else:\n",
    "                                x[pos_u] + x[pos_ij] - x[pos_i] - x[pos_j] <= 0\n",
    "                        else:\n",
    "                            x[pos_u] + x[pos_ij] - x[pos_i] - x[pos_j] <= 0\n",
    "                    else:\n",
    "                        x[pos_u] + x[pos_ij] - x[pos_i] - x[pos_j] <= 0\n",
    "                else:\n",
    "                    if pos_i == pos_j == pos_u:\n",
    "                        continue\n",
    "                    else:\n",
    "                        x[pos_u] - x[pos_i] - x[pos_j] <= 0\n",
    "                    \n",
    "    for k in eq_dict:\n",
    "        pos_i = arr_sets[k]\n",
    "        pos_j = arr_sets[eq_dict[k]]\n",
    "        x[pos_i] == x[pos_j]\n",
    "        \n",
    "    p.maximize(x[arr_sets[tuple(V)]], 'x_v')\n",
    "    \n",
    "    p.solve()\n",
    "            \n",
    "    if verbose: p.sensitivity() \n",
    "    \n",
    "    p.end()\n",
    "    \n",
    "    x_rational = list(map(lambda x : sy.nsimplify(max(x.primal,0), tolerance=1e-4), x))\n",
    "    x_v_rational = sy.nsimplify(p.vobj(), tolerance=0.01)\n",
    "    \n",
    "    subsets_rational = {}\n",
    "    keys = list(arr_sets.keys())\n",
    "    for i in range(len(x_rational)):\n",
    "        subsets_rational[keys[i]] = x_rational[i]\n",
    "    \n",
    "    return x_v_rational, x_rational, subsets_rational"
   ]
  },
  {
   "cell_type": "markdown",
   "metadata": {},
   "source": [
    "# Sample Graphs"
   ]
  },
  {
   "cell_type": "code",
   "execution_count": 16,
   "metadata": {},
   "outputs": [],
   "source": [
    "G1 = {1:{2,5,6}, 2:{1,3,6}, 3:{2,4}, 4:{3,5,7}, 5:{1,4}, 6:{1,2,7}, 7:{4,6}}\n",
    "G2 = {1:{2,5,6}, 2:{1,3,7}, 3:{2,4,6}, 4:{3,5}, 5:{1,4}, 6:{1,3,7}, 7:{2,6}}\n",
    "G3 = {1:{2,5,6}, 2:{1,3}, 3:{2,4,6}, 4:{3,5,7}, 5:{1,4}, 6:{1,3,7}, 7:{4,6}}\n",
    "G4 = {1:{2,5,6}, 2:{1,3,7}, 3:{2,4,6}, 4:{3,5,7}, 5:{1,4}, 6:{1,3,7}, 7:{2,4,6}}\n",
    "G5 = {1:{2,5,6}, 2:{1,3,7}, 3:{2,4}, 4:{3,5}, 5:{1,4}, 6:{1,7}, 7:{2,6}}\n",
    "G6 = {1:{2,5,6}, 2:{1,3}, 3:{2,4,7}, 4:{3,5}, 5:{1,4}, 6:{1,7}, 7:{3,6}}\n",
    "G7 = {1:{2,3,4,5,6,7}, 2:{1,3,4,5,6,7}, 3:{1,2,4,5,6,7}, 4:{1,2,3,5,6,7}, 5:{1,2,3,4,6,7}, 6:{1,2,3,4,5,7}, 7:{1,2,3,4,5,6}}"
   ]
  },
  {
   "cell_type": "code",
   "execution_count": 17,
   "metadata": {
    "scrolled": true
   },
   "outputs": [
    {
     "data": {
      "text/plain": [
       "(11/3,\n",
       " [1,\n",
       "  2,\n",
       "  7/3,\n",
       "  3,\n",
       "  3,\n",
       "  11/3,\n",
       "  11/3,\n",
       "  11/3,\n",
       "  11/3,\n",
       "  11/3,\n",
       "  11/3,\n",
       "  8/3,\n",
       "  10/3,\n",
       "  11/3,\n",
       "  11/3,\n",
       "  3,\n",
       "  10/3,\n",
       "  10/3,\n",
       "  3,\n",
       "  3,\n",
       "  11/3,\n",
       "  11/3,\n",
       "  11/3,\n",
       "  11/3,\n",
       "  11/3,\n",
       "  11/3,\n",
       "  7/3,\n",
       "  3,\n",
       "  10/3,\n",
       "  10/3,\n",
       "  8/3,\n",
       "  3,\n",
       "  3,\n",
       "  2,\n",
       "  8/3,\n",
       "  8/3,\n",
       "  11/3,\n",
       "  11/3,\n",
       "  10/3,\n",
       "  11/3,\n",
       "  11/3,\n",
       "  10/3,\n",
       "  7/3,\n",
       "  10/3,\n",
       "  11/3,\n",
       "  10/3,\n",
       "  3,\n",
       "  10/3,\n",
       "  3,\n",
       "  2,\n",
       "  2,\n",
       "  3,\n",
       "  3,\n",
       "  8/3,\n",
       "  3,\n",
       "  3,\n",
       "  8/3,\n",
       "  4/3,\n",
       "  7/3,\n",
       "  8/3,\n",
       "  7/3,\n",
       "  2,\n",
       "  7/3,\n",
       "  2,\n",
       "  1,\n",
       "  4/3,\n",
       "  2,\n",
       "  8/3,\n",
       "  11/3,\n",
       "  11/3,\n",
       "  10/3,\n",
       "  3,\n",
       "  3,\n",
       "  8/3,\n",
       "  7/3,\n",
       "  10/3,\n",
       "  11/3,\n",
       "  10/3,\n",
       "  7/3,\n",
       "  8/3,\n",
       "  7/3,\n",
       "  2,\n",
       "  8/3,\n",
       "  11/3,\n",
       "  11/3,\n",
       "  10/3,\n",
       "  3,\n",
       "  3,\n",
       "  8/3,\n",
       "  2,\n",
       "  3,\n",
       "  10/3,\n",
       "  3,\n",
       "  2,\n",
       "  7/3,\n",
       "  2,\n",
       "  1,\n",
       "  5/3,\n",
       "  7/3,\n",
       "  10/3,\n",
       "  10/3,\n",
       "  3,\n",
       "  8/3,\n",
       "  8/3,\n",
       "  7/3,\n",
       "  2,\n",
       "  3,\n",
       "  10/3,\n",
       "  3,\n",
       "  2,\n",
       "  7/3,\n",
       "  2,\n",
       "  1,\n",
       "  5/3,\n",
       "  8/3,\n",
       "  8/3,\n",
       "  7/3,\n",
       "  2,\n",
       "  2,\n",
       "  5/3,\n",
       "  1,\n",
       "  2,\n",
       "  7/3,\n",
       "  2,\n",
       "  1,\n",
       "  4/3,\n",
       "  1],\n",
       " {(1,): 1,\n",
       "  (1, 2): 2,\n",
       "  (1, 2, 3): 7/3,\n",
       "  (1, 2, 3, 4): 3,\n",
       "  (1, 2, 3, 4, 5): 3,\n",
       "  (1, 2, 3, 4, 5, 6): 11/3,\n",
       "  (1, 2, 3, 4, 5, 6, 7): 11/3,\n",
       "  (1, 2, 3, 4, 5, 7): 11/3,\n",
       "  (1, 2, 3, 4, 6): 11/3,\n",
       "  (1, 2, 3, 4, 6, 7): 11/3,\n",
       "  (1, 2, 3, 4, 7): 11/3,\n",
       "  (1, 2, 3, 5): 8/3,\n",
       "  (1, 2, 3, 5, 6): 10/3,\n",
       "  (1, 2, 3, 5, 6, 7): 11/3,\n",
       "  (1, 2, 3, 5, 7): 11/3,\n",
       "  (1, 2, 3, 6): 3,\n",
       "  (1, 2, 3, 6, 7): 10/3,\n",
       "  (1, 2, 3, 7): 10/3,\n",
       "  (1, 2, 4): 3,\n",
       "  (1, 2, 4, 5): 3,\n",
       "  (1, 2, 4, 5, 6): 11/3,\n",
       "  (1, 2, 4, 5, 6, 7): 11/3,\n",
       "  (1, 2, 4, 5, 7): 11/3,\n",
       "  (1, 2, 4, 6): 11/3,\n",
       "  (1, 2, 4, 6, 7): 11/3,\n",
       "  (1, 2, 4, 7): 11/3,\n",
       "  (1, 2, 5): 7/3,\n",
       "  (1, 2, 5, 6): 3,\n",
       "  (1, 2, 5, 6, 7): 10/3,\n",
       "  (1, 2, 5, 7): 10/3,\n",
       "  (1, 2, 6): 8/3,\n",
       "  (1, 2, 6, 7): 3,\n",
       "  (1, 2, 7): 3,\n",
       "  (1, 3): 2,\n",
       "  (1, 3, 4): 8/3,\n",
       "  (1, 3, 4, 5): 8/3,\n",
       "  (1, 3, 4, 5, 6): 11/3,\n",
       "  (1, 3, 4, 5, 6, 7): 11/3,\n",
       "  (1, 3, 4, 5, 7): 10/3,\n",
       "  (1, 3, 4, 6): 11/3,\n",
       "  (1, 3, 4, 6, 7): 11/3,\n",
       "  (1, 3, 4, 7): 10/3,\n",
       "  (1, 3, 5): 7/3,\n",
       "  (1, 3, 5, 6): 10/3,\n",
       "  (1, 3, 5, 6, 7): 11/3,\n",
       "  (1, 3, 5, 7): 10/3,\n",
       "  (1, 3, 6): 3,\n",
       "  (1, 3, 6, 7): 10/3,\n",
       "  (1, 3, 7): 3,\n",
       "  (1, 4): 2,\n",
       "  (1, 4, 5): 2,\n",
       "  (1, 4, 5, 6): 3,\n",
       "  (1, 4, 5, 6, 7): 3,\n",
       "  (1, 4, 5, 7): 8/3,\n",
       "  (1, 4, 6): 3,\n",
       "  (1, 4, 6, 7): 3,\n",
       "  (1, 4, 7): 8/3,\n",
       "  (1, 5): 4/3,\n",
       "  (1, 5, 6): 7/3,\n",
       "  (1, 5, 6, 7): 8/3,\n",
       "  (1, 5, 7): 7/3,\n",
       "  (1, 6): 2,\n",
       "  (1, 6, 7): 7/3,\n",
       "  (1, 7): 2,\n",
       "  (2,): 1,\n",
       "  (2, 3): 4/3,\n",
       "  (2, 3, 4): 2,\n",
       "  (2, 3, 4, 5): 8/3,\n",
       "  (2, 3, 4, 5, 6): 11/3,\n",
       "  (2, 3, 4, 5, 6, 7): 11/3,\n",
       "  (2, 3, 4, 5, 7): 10/3,\n",
       "  (2, 3, 4, 6): 3,\n",
       "  (2, 3, 4, 6, 7): 3,\n",
       "  (2, 3, 4, 7): 8/3,\n",
       "  (2, 3, 5): 7/3,\n",
       "  (2, 3, 5, 6): 10/3,\n",
       "  (2, 3, 5, 6, 7): 11/3,\n",
       "  (2, 3, 5, 7): 10/3,\n",
       "  (2, 3, 6): 7/3,\n",
       "  (2, 3, 6, 7): 8/3,\n",
       "  (2, 3, 7): 7/3,\n",
       "  (2, 4): 2,\n",
       "  (2, 4, 5): 8/3,\n",
       "  (2, 4, 5, 6): 11/3,\n",
       "  (2, 4, 5, 6, 7): 11/3,\n",
       "  (2, 4, 5, 7): 10/3,\n",
       "  (2, 4, 6): 3,\n",
       "  (2, 4, 6, 7): 3,\n",
       "  (2, 4, 7): 8/3,\n",
       "  (2, 5): 2,\n",
       "  (2, 5, 6): 3,\n",
       "  (2, 5, 6, 7): 10/3,\n",
       "  (2, 5, 7): 3,\n",
       "  (2, 6): 2,\n",
       "  (2, 6, 7): 7/3,\n",
       "  (2, 7): 2,\n",
       "  (3,): 1,\n",
       "  (3, 4): 5/3,\n",
       "  (3, 4, 5): 7/3,\n",
       "  (3, 4, 5, 6): 10/3,\n",
       "  (3, 4, 5, 6, 7): 10/3,\n",
       "  (3, 4, 5, 7): 3,\n",
       "  (3, 4, 6): 8/3,\n",
       "  (3, 4, 6, 7): 8/3,\n",
       "  (3, 4, 7): 7/3,\n",
       "  (3, 5): 2,\n",
       "  (3, 5, 6): 3,\n",
       "  (3, 5, 6, 7): 10/3,\n",
       "  (3, 5, 7): 3,\n",
       "  (3, 6): 2,\n",
       "  (3, 6, 7): 7/3,\n",
       "  (3, 7): 2,\n",
       "  (4,): 1,\n",
       "  (4, 5): 5/3,\n",
       "  (4, 5, 6): 8/3,\n",
       "  (4, 5, 6, 7): 8/3,\n",
       "  (4, 5, 7): 7/3,\n",
       "  (4, 6): 2,\n",
       "  (4, 6, 7): 2,\n",
       "  (4, 7): 5/3,\n",
       "  (5,): 1,\n",
       "  (5, 6): 2,\n",
       "  (5, 6, 7): 7/3,\n",
       "  (5, 7): 2,\n",
       "  (6,): 1,\n",
       "  (6, 7): 4/3,\n",
       "  (7,): 1})"
      ]
     },
     "execution_count": 17,
     "metadata": {},
     "output_type": "execute_result"
    }
   ],
   "source": [
    "lp_entropy(G1)"
   ]
  },
  {
   "cell_type": "code",
   "execution_count": 18,
   "metadata": {},
   "outputs": [
    {
     "data": {
      "text/plain": [
       "(10/3,\n",
       " [0, 0, 1/3, 2/3, 0, 0, 2/3, 0, 0, 1/3, 0, 1/3, 1/3, 0, 0, 2/3, 0],\n",
       " {(1,): 0,\n",
       "  (1, 2): 0,\n",
       "  (1, 2, 6): 1/3,\n",
       "  (1, 5): 2/3,\n",
       "  (1, 6): 0,\n",
       "  (2,): 0,\n",
       "  (2, 3): 2/3,\n",
       "  (2, 6): 0,\n",
       "  (3,): 0,\n",
       "  (3, 4): 1/3,\n",
       "  (4,): 0,\n",
       "  (4, 5): 1/3,\n",
       "  (4, 7): 1/3,\n",
       "  (5,): 0,\n",
       "  (6,): 0,\n",
       "  (6, 7): 2/3,\n",
       "  (7,): 0})"
      ]
     },
     "execution_count": 18,
     "metadata": {},
     "output_type": "execute_result"
    }
   ],
   "source": [
    "lp_clique(G1)"
   ]
  },
  {
   "cell_type": "code",
   "execution_count": 19,
   "metadata": {},
   "outputs": [
    {
     "name": "stderr",
     "output_type": "stream",
     "text": [
      "/Users/FatemaK/anaconda3/envs/lp/lib/python3.7/site-packages/networkx/drawing/nx_pylab.py:611: MatplotlibDeprecationWarning: isinstance(..., numbers.Number)\n",
      "  if cb.is_numlike(alpha):\n"
     ]
    },
    {
     "data": {
      "image/png": "[encoded data removed]",
      "text/plain": [
       "<Figure size 432x288 with 1 Axes>"
      ]
     },
     "metadata": {
      "needs_background": "light"
     },
     "output_type": "display_data"
    }
   ],
   "source": [
    "G8 = {1:{2,5,8}, 2:{1,3}, 3:{2,4,7}, 4: {3,8}, 5:{1,6}, 6:{5,7,8}, 7:{3,6,8}, 8:{1,4,6,7}}\n",
    "draw_graph(G8)"
   ]
  },
  {
   "cell_type": "code",
   "execution_count": 20,
   "metadata": {},
   "outputs": [
    {
     "data": {
      "image/png": "[encoded data removed]",
      "text/plain": [
       "<Figure size 432x288 with 1 Axes>"
      ]
     },
     "metadata": {
      "needs_background": "light"
     },
     "output_type": "display_data"
    }
   ],
   "source": [
    "G9 = {1:{2,5,8}, 2:{1,3}, 3:{2,4,7}, 4:{3,5,8}, 5:{1,4,6}, 6:{5,7,8}, 7:{3,6,8}, 8:{1,4,6,7}}\n",
    "draw_graph(G9)"
   ]
  },
  {
   "cell_type": "code",
   "execution_count": 21,
   "metadata": {},
   "outputs": [],
   "source": [
    "def run_lps(G):\n",
    "    clique_opt, clique_x, clique_x_map = lp_clique(G)\n",
    "    print('optimal fractional clique cover number', clique_opt, '\\n solution vector', clique_x, '\\n solution vector mapped to the subsets', clique_x_map)\n",
    "    entropy_opt, entropy_x, entropy_x_map = lp_entropy(G)\n",
    "    print('optimal shannon entropy', entropy_opt, '\\n solution vector', entropy_x, '\\n solution vector mapped to the subsets', entropy_x_map)\n",
    "    return clique_opt + entropy_opt >= len(G)"
   ]
  },
  {
   "cell_type": "code",
   "execution_count": 22,
   "metadata": {},
   "outputs": [
    {
     "name": "stdout",
     "output_type": "stream",
     "text": [
      "optimal fractional clique cover number 4 \n",
      " solution vector [0, 0, 1, 0, 1, 0, 0, 1, 0, 0, 0, 0, 0, 0, 0, 1, 0, 0, 0, 0] \n",
      " solution vector mapped to the subsets {(1,): 0, (1, 2): 0, (1, 5): 1, (1, 8): 0, (2,): 1, (2, 3): 0, (3,): 0, (3, 4): 1, (3, 7): 0, (4,): 0, (4, 8): 0, (5,): 0, (5, 6): 0, (6,): 0, (6, 7): 0, (6, 7, 8): 1, (6, 8): 0, (7,): 0, (7, 8): 0, (8,): 0}\n",
      "optimal shannon entropy 4 \n",
      " solution vector [1, 2, 2, 2, 2, 3, 4, 4, 4, 3, 4, 3, 3, 4, 4, 4, 3, 4, 3, 2, 3, 4, 4, 4, 3, 4, 3, 3, 4, 4, 4, 3, 4, 3, 2, 2, 3, 4, 4, 4, 3, 4, 3, 3, 4, 4, 4, 3, 4, 3, 2, 3, 4, 4, 4, 3, 4, 3, 3, 4, 4, 4, 3, 4, 3, 2, 2, 2, 3, 4, 4, 4, 3, 4, 3, 3, 4, 4, 4, 3, 4, 3, 2, 3, 4, 4, 4, 3, 4, 3, 3, 4, 4, 4, 3, 4, 3, 1, 1, 2, 3, 3, 3, 2, 3, 2, 2, 3, 3, 3, 2, 3, 2, 1, 2, 3, 3, 3, 2, 3, 2, 2, 3, 3, 3, 2, 3, 2, 1, 1, 1, 2, 3, 4, 4, 4, 3, 4, 3, 2, 3, 3, 3, 2, 3, 2, 2, 3, 4, 4, 4, 3, 4, 3, 2, 3, 3, 3, 2, 3, 2, 1, 2, 3, 4, 4, 4, 3, 4, 3, 2, 3, 3, 3, 2, 3, 2, 2, 3, 4, 4, 4, 3, 4, 3, 2, 3, 3, 3, 2, 3, 2, 1, 1, 2, 3, 4, 4, 4, 3, 4, 3, 2, 3, 3, 3, 2, 3, 2, 2, 3, 4, 4, 4, 3, 4, 3, 2, 3, 3, 3, 2, 3, 2, 0, 1, 2, 3, 3, 3, 2, 3, 2, 1, 2, 2, 2, 1, 2, 1, 1, 2, 3, 3, 3, 2, 3, 2, 1, 2, 2, 2, 1, 2, 1] \n",
      " solution vector mapped to the subsets {(1,): 1, (1, 2): 2, (1, 2, 3): 2, (1, 2, 3, 4): 2, (1, 2, 3, 4, 5): 2, (1, 2, 3, 4, 5, 6): 3, (1, 2, 3, 4, 5, 6, 7): 4, (1, 2, 3, 4, 5, 6, 7, 8): 4, (1, 2, 3, 4, 5, 6, 8): 4, (1, 2, 3, 4, 5, 7): 3, (1, 2, 3, 4, 5, 7, 8): 4, (1, 2, 3, 4, 5, 8): 3, (1, 2, 3, 4, 6): 3, (1, 2, 3, 4, 6, 7): 4, (1, 2, 3, 4, 6, 7, 8): 4, (1, 2, 3, 4, 6, 8): 4, (1, 2, 3, 4, 7): 3, (1, 2, 3, 4, 7, 8): 4, (1, 2, 3, 4, 8): 3, (1, 2, 3, 5): 2, (1, 2, 3, 5, 6): 3, (1, 2, 3, 5, 6, 7): 4, (1, 2, 3, 5, 6, 7, 8): 4, (1, 2, 3, 5, 6, 8): 4, (1, 2, 3, 5, 7): 3, (1, 2, 3, 5, 7, 8): 4, (1, 2, 3, 5, 8): 3, (1, 2, 3, 6): 3, (1, 2, 3, 6, 7): 4, (1, 2, 3, 6, 7, 8): 4, (1, 2, 3, 6, 8): 4, (1, 2, 3, 7): 3, (1, 2, 3, 7, 8): 4, (1, 2, 3, 8): 3, (1, 2, 4): 2, (1, 2, 4, 5): 2, (1, 2, 4, 5, 6): 3, (1, 2, 4, 5, 6, 7): 4, (1, 2, 4, 5, 6, 7, 8): 4, (1, 2, 4, 5, 6, 8): 4, (1, 2, 4, 5, 7): 3, (1, 2, 4, 5, 7, 8): 4, (1, 2, 4, 5, 8): 3, (1, 2, 4, 6): 3, (1, 2, 4, 6, 7): 4, (1, 2, 4, 6, 7, 8): 4, (1, 2, 4, 6, 8): 4, (1, 2, 4, 7): 3, (1, 2, 4, 7, 8): 4, (1, 2, 4, 8): 3, (1, 2, 5): 2, (1, 2, 5, 6): 3, (1, 2, 5, 6, 7): 4, (1, 2, 5, 6, 7, 8): 4, (1, 2, 5, 6, 8): 4, (1, 2, 5, 7): 3, (1, 2, 5, 7, 8): 4, (1, 2, 5, 8): 3, (1, 2, 6): 3, (1, 2, 6, 7): 4, (1, 2, 6, 7, 8): 4, (1, 2, 6, 8): 4, (1, 2, 7): 3, (1, 2, 7, 8): 4, (1, 2, 8): 3, (1, 3): 2, (1, 3, 4): 2, (1, 3, 4, 5): 2, (1, 3, 4, 5, 6): 3, (1, 3, 4, 5, 6, 7): 4, (1, 3, 4, 5, 6, 7, 8): 4, (1, 3, 4, 5, 6, 8): 4, (1, 3, 4, 5, 7): 3, (1, 3, 4, 5, 7, 8): 4, (1, 3, 4, 5, 8): 3, (1, 3, 4, 6): 3, (1, 3, 4, 6, 7): 4, (1, 3, 4, 6, 7, 8): 4, (1, 3, 4, 6, 8): 4, (1, 3, 4, 7): 3, (1, 3, 4, 7, 8): 4, (1, 3, 4, 8): 3, (1, 3, 5): 2, (1, 3, 5, 6): 3, (1, 3, 5, 6, 7): 4, (1, 3, 5, 6, 7, 8): 4, (1, 3, 5, 6, 8): 4, (1, 3, 5, 7): 3, (1, 3, 5, 7, 8): 4, (1, 3, 5, 8): 3, (1, 3, 6): 3, (1, 3, 6, 7): 4, (1, 3, 6, 7, 8): 4, (1, 3, 6, 8): 4, (1, 3, 7): 3, (1, 3, 7, 8): 4, (1, 3, 8): 3, (1, 4): 1, (1, 4, 5): 1, (1, 4, 5, 6): 2, (1, 4, 5, 6, 7): 3, (1, 4, 5, 6, 7, 8): 3, (1, 4, 5, 6, 8): 3, (1, 4, 5, 7): 2, (1, 4, 5, 7, 8): 3, (1, 4, 5, 8): 2, (1, 4, 6): 2, (1, 4, 6, 7): 3, (1, 4, 6, 7, 8): 3, (1, 4, 6, 8): 3, (1, 4, 7): 2, (1, 4, 7, 8): 3, (1, 4, 8): 2, (1, 5): 1, (1, 5, 6): 2, (1, 5, 6, 7): 3, (1, 5, 6, 7, 8): 3, (1, 5, 6, 8): 3, (1, 5, 7): 2, (1, 5, 7, 8): 3, (1, 5, 8): 2, (1, 6): 2, (1, 6, 7): 3, (1, 6, 7, 8): 3, (1, 6, 8): 3, (1, 7): 2, (1, 7, 8): 3, (1, 8): 2, (2,): 1, (2, 3): 1, (2, 3, 4): 1, (2, 3, 4, 5): 2, (2, 3, 4, 5, 6): 3, (2, 3, 4, 5, 6, 7): 4, (2, 3, 4, 5, 6, 7, 8): 4, (2, 3, 4, 5, 6, 8): 4, (2, 3, 4, 5, 7): 3, (2, 3, 4, 5, 7, 8): 4, (2, 3, 4, 5, 8): 3, (2, 3, 4, 6): 2, (2, 3, 4, 6, 7): 3, (2, 3, 4, 6, 7, 8): 3, (2, 3, 4, 6, 8): 3, (2, 3, 4, 7): 2, (2, 3, 4, 7, 8): 3, (2, 3, 4, 8): 2, (2, 3, 5): 2, (2, 3, 5, 6): 3, (2, 3, 5, 6, 7): 4, (2, 3, 5, 6, 7, 8): 4, (2, 3, 5, 6, 8): 4, (2, 3, 5, 7): 3, (2, 3, 5, 7, 8): 4, (2, 3, 5, 8): 3, (2, 3, 6): 2, (2, 3, 6, 7): 3, (2, 3, 6, 7, 8): 3, (2, 3, 6, 8): 3, (2, 3, 7): 2, (2, 3, 7, 8): 3, (2, 3, 8): 2, (2, 4): 1, (2, 4, 5): 2, (2, 4, 5, 6): 3, (2, 4, 5, 6, 7): 4, (2, 4, 5, 6, 7, 8): 4, (2, 4, 5, 6, 8): 4, (2, 4, 5, 7): 3, (2, 4, 5, 7, 8): 4, (2, 4, 5, 8): 3, (2, 4, 6): 2, (2, 4, 6, 7): 3, (2, 4, 6, 7, 8): 3, (2, 4, 6, 8): 3, (2, 4, 7): 2, (2, 4, 7, 8): 3, (2, 4, 8): 2, (2, 5): 2, (2, 5, 6): 3, (2, 5, 6, 7): 4, (2, 5, 6, 7, 8): 4, (2, 5, 6, 8): 4, (2, 5, 7): 3, (2, 5, 7, 8): 4, (2, 5, 8): 3, (2, 6): 2, (2, 6, 7): 3, (2, 6, 7, 8): 3, (2, 6, 8): 3, (2, 7): 2, (2, 7, 8): 3, (2, 8): 2, (3,): 1, (3, 4): 1, (3, 4, 5): 2, (3, 4, 5, 6): 3, (3, 4, 5, 6, 7): 4, (3, 4, 5, 6, 7, 8): 4, (3, 4, 5, 6, 8): 4, (3, 4, 5, 7): 3, (3, 4, 5, 7, 8): 4, (3, 4, 5, 8): 3, (3, 4, 6): 2, (3, 4, 6, 7): 3, (3, 4, 6, 7, 8): 3, (3, 4, 6, 8): 3, (3, 4, 7): 2, (3, 4, 7, 8): 3, (3, 4, 8): 2, (3, 5): 2, (3, 5, 6): 3, (3, 5, 6, 7): 4, (3, 5, 6, 7, 8): 4, (3, 5, 6, 8): 4, (3, 5, 7): 3, (3, 5, 7, 8): 4, (3, 5, 8): 3, (3, 6): 2, (3, 6, 7): 3, (3, 6, 7, 8): 3, (3, 6, 8): 3, (3, 7): 2, (3, 7, 8): 3, (3, 8): 2, (4,): 0, (4, 5): 1, (4, 5, 6): 2, (4, 5, 6, 7): 3, (4, 5, 6, 7, 8): 3, (4, 5, 6, 8): 3, (4, 5, 7): 2, (4, 5, 7, 8): 3, (4, 5, 8): 2, (4, 6): 1, (4, 6, 7): 2, (4, 6, 7, 8): 2, (4, 6, 8): 2, (4, 7): 1, (4, 7, 8): 2, (4, 8): 1, (5,): 1, (5, 6): 2, (5, 6, 7): 3, (5, 6, 7, 8): 3, (5, 6, 8): 3, (5, 7): 2, (5, 7, 8): 3, (5, 8): 2, (6,): 1, (6, 7): 2, (6, 7, 8): 2, (6, 8): 2, (7,): 1, (7, 8): 2, (8,): 1}\n"
     ]
    },
    {
     "data": {
      "text/plain": [
       "True"
      ]
     },
     "execution_count": 22,
     "metadata": {},
     "output_type": "execute_result"
    }
   ],
   "source": [
    "run_lps(G8)"
   ]
  },
  {
   "cell_type": "code",
   "execution_count": 23,
   "metadata": {},
   "outputs": [
    {
     "name": "stdout",
     "output_type": "stream",
     "text": [
      "optimal fractional clique cover number 7/2 \n",
      " solution vector [0, 1/2, 1/2, 0, 0, 1/2, 0, 1/2, 0, 0, 1/2, 0, 0, 0, 0, 0, 1, 0, 0, 0, 0] \n",
      " solution vector mapped to the subsets {(1,): 0, (1, 2): 1/2, (1, 5): 1/2, (1, 8): 0, (2,): 0, (2, 3): 1/2, (3,): 0, (3, 4): 1/2, (3, 7): 0, (4,): 0, (4, 5): 1/2, (4, 8): 0, (5,): 0, (5, 6): 0, (6,): 0, (6, 7): 0, (6, 7, 8): 1, (6, 8): 0, (7,): 0, (7, 8): 0, (8,): 0}\n",
      "optimal shannon entropy 9/2 \n",
      " solution vector [1, 3/2, 2, 5/2, 5/2, 7/2, 9/2, 9/2, 9/2, 7/2, 9/2, 7/2, 7/2, 9/2, 9/2, 9/2, 7/2, 9/2, 7/2, 5/2, 7/2, 9/2, 9/2, 9/2, 7/2, 9/2, 7/2, 3, 4, 4, 4, 3, 4, 3, 5/2, 5/2, 7/2, 9/2, 9/2, 9/2, 7/2, 9/2, 7/2, 7/2, 9/2, 9/2, 9/2, 7/2, 9/2, 7/2, 2, 3, 4, 4, 4, 3, 4, 3, 5/2, 7/2, 7/2, 7/2, 5/2, 7/2, 5/2, 2, 5/2, 5/2, 7/2, 9/2, 9/2, 9/2, 7/2, 9/2, 7/2, 7/2, 9/2, 9/2, 9/2, 7/2, 9/2, 7/2, 5/2, 7/2, 9/2, 9/2, 9/2, 7/2, 9/2, 7/2, 3, 4, 4, 4, 3, 4, 3, 2, 2, 3, 4, 4, 4, 3, 4, 3, 3, 4, 4, 4, 3, 4, 3, 3/2, 5/2, 7/2, 7/2, 7/2, 5/2, 7/2, 5/2, 2, 3, 3, 3, 2, 3, 2, 1, 3/2, 2, 5/2, 7/2, 9/2, 9/2, 9/2, 7/2, 9/2, 7/2, 3, 4, 4, 4, 3, 4, 3, 5/2, 7/2, 9/2, 9/2, 9/2, 7/2, 9/2, 7/2, 5/2, 7/2, 7/2, 7/2, 5/2, 7/2, 5/2, 2, 5/2, 7/2, 9/2, 9/2, 9/2, 7/2, 9/2, 7/2, 3, 4, 4, 4, 3, 4, 3, 2, 3, 4, 4, 4, 3, 4, 3, 2, 3, 3, 3, 2, 3, 2, 1, 3/2, 2, 3, 4, 4, 4, 3, 4, 3, 5/2, 7/2, 7/2, 7/2, 5/2, 7/2, 5/2, 2, 3, 4, 4, 4, 3, 4, 3, 2, 3, 3, 3, 2, 3, 2, 1, 3/2, 5/2, 7/2, 7/2, 7/2, 5/2, 7/2, 5/2, 2, 3, 3, 3, 2, 3, 2, 1, 2, 3, 3, 3, 2, 3, 2, 1, 2, 2, 2, 1, 2, 1] \n",
      " solution vector mapped to the subsets {(1,): 1, (1, 2): 3/2, (1, 2, 3): 2, (1, 2, 3, 4): 5/2, (1, 2, 3, 4, 5): 5/2, (1, 2, 3, 4, 5, 6): 7/2, (1, 2, 3, 4, 5, 6, 7): 9/2, (1, 2, 3, 4, 5, 6, 7, 8): 9/2, (1, 2, 3, 4, 5, 6, 8): 9/2, (1, 2, 3, 4, 5, 7): 7/2, (1, 2, 3, 4, 5, 7, 8): 9/2, (1, 2, 3, 4, 5, 8): 7/2, (1, 2, 3, 4, 6): 7/2, (1, 2, 3, 4, 6, 7): 9/2, (1, 2, 3, 4, 6, 7, 8): 9/2, (1, 2, 3, 4, 6, 8): 9/2, (1, 2, 3, 4, 7): 7/2, (1, 2, 3, 4, 7, 8): 9/2, (1, 2, 3, 4, 8): 7/2, (1, 2, 3, 5): 5/2, (1, 2, 3, 5, 6): 7/2, (1, 2, 3, 5, 6, 7): 9/2, (1, 2, 3, 5, 6, 7, 8): 9/2, (1, 2, 3, 5, 6, 8): 9/2, (1, 2, 3, 5, 7): 7/2, (1, 2, 3, 5, 7, 8): 9/2, (1, 2, 3, 5, 8): 7/2, (1, 2, 3, 6): 3, (1, 2, 3, 6, 7): 4, (1, 2, 3, 6, 7, 8): 4, (1, 2, 3, 6, 8): 4, (1, 2, 3, 7): 3, (1, 2, 3, 7, 8): 4, (1, 2, 3, 8): 3, (1, 2, 4): 5/2, (1, 2, 4, 5): 5/2, (1, 2, 4, 5, 6): 7/2, (1, 2, 4, 5, 6, 7): 9/2, (1, 2, 4, 5, 6, 7, 8): 9/2, (1, 2, 4, 5, 6, 8): 9/2, (1, 2, 4, 5, 7): 7/2, (1, 2, 4, 5, 7, 8): 9/2, (1, 2, 4, 5, 8): 7/2, (1, 2, 4, 6): 7/2, (1, 2, 4, 6, 7): 9/2, (1, 2, 4, 6, 7, 8): 9/2, (1, 2, 4, 6, 8): 9/2, (1, 2, 4, 7): 7/2, (1, 2, 4, 7, 8): 9/2, (1, 2, 4, 8): 7/2, (1, 2, 5): 2, (1, 2, 5, 6): 3, (1, 2, 5, 6, 7): 4, (1, 2, 5, 6, 7, 8): 4, (1, 2, 5, 6, 8): 4, (1, 2, 5, 7): 3, (1, 2, 5, 7, 8): 4, (1, 2, 5, 8): 3, (1, 2, 6): 5/2, (1, 2, 6, 7): 7/2, (1, 2, 6, 7, 8): 7/2, (1, 2, 6, 8): 7/2, (1, 2, 7): 5/2, (1, 2, 7, 8): 7/2, (1, 2, 8): 5/2, (1, 3): 2, (1, 3, 4): 5/2, (1, 3, 4, 5): 5/2, (1, 3, 4, 5, 6): 7/2, (1, 3, 4, 5, 6, 7): 9/2, (1, 3, 4, 5, 6, 7, 8): 9/2, (1, 3, 4, 5, 6, 8): 9/2, (1, 3, 4, 5, 7): 7/2, (1, 3, 4, 5, 7, 8): 9/2, (1, 3, 4, 5, 8): 7/2, (1, 3, 4, 6): 7/2, (1, 3, 4, 6, 7): 9/2, (1, 3, 4, 6, 7, 8): 9/2, (1, 3, 4, 6, 8): 9/2, (1, 3, 4, 7): 7/2, (1, 3, 4, 7, 8): 9/2, (1, 3, 4, 8): 7/2, (1, 3, 5): 5/2, (1, 3, 5, 6): 7/2, (1, 3, 5, 6, 7): 9/2, (1, 3, 5, 6, 7, 8): 9/2, (1, 3, 5, 6, 8): 9/2, (1, 3, 5, 7): 7/2, (1, 3, 5, 7, 8): 9/2, (1, 3, 5, 8): 7/2, (1, 3, 6): 3, (1, 3, 6, 7): 4, (1, 3, 6, 7, 8): 4, (1, 3, 6, 8): 4, (1, 3, 7): 3, (1, 3, 7, 8): 4, (1, 3, 8): 3, (1, 4): 2, (1, 4, 5): 2, (1, 4, 5, 6): 3, (1, 4, 5, 6, 7): 4, (1, 4, 5, 6, 7, 8): 4, (1, 4, 5, 6, 8): 4, (1, 4, 5, 7): 3, (1, 4, 5, 7, 8): 4, (1, 4, 5, 8): 3, (1, 4, 6): 3, (1, 4, 6, 7): 4, (1, 4, 6, 7, 8): 4, (1, 4, 6, 8): 4, (1, 4, 7): 3, (1, 4, 7, 8): 4, (1, 4, 8): 3, (1, 5): 3/2, (1, 5, 6): 5/2, (1, 5, 6, 7): 7/2, (1, 5, 6, 7, 8): 7/2, (1, 5, 6, 8): 7/2, (1, 5, 7): 5/2, (1, 5, 7, 8): 7/2, (1, 5, 8): 5/2, (1, 6): 2, (1, 6, 7): 3, (1, 6, 7, 8): 3, (1, 6, 8): 3, (1, 7): 2, (1, 7, 8): 3, (1, 8): 2, (2,): 1, (2, 3): 3/2, (2, 3, 4): 2, (2, 3, 4, 5): 5/2, (2, 3, 4, 5, 6): 7/2, (2, 3, 4, 5, 6, 7): 9/2, (2, 3, 4, 5, 6, 7, 8): 9/2, (2, 3, 4, 5, 6, 8): 9/2, (2, 3, 4, 5, 7): 7/2, (2, 3, 4, 5, 7, 8): 9/2, (2, 3, 4, 5, 8): 7/2, (2, 3, 4, 6): 3, (2, 3, 4, 6, 7): 4, (2, 3, 4, 6, 7, 8): 4, (2, 3, 4, 6, 8): 4, (2, 3, 4, 7): 3, (2, 3, 4, 7, 8): 4, (2, 3, 4, 8): 3, (2, 3, 5): 5/2, (2, 3, 5, 6): 7/2, (2, 3, 5, 6, 7): 9/2, (2, 3, 5, 6, 7, 8): 9/2, (2, 3, 5, 6, 8): 9/2, (2, 3, 5, 7): 7/2, (2, 3, 5, 7, 8): 9/2, (2, 3, 5, 8): 7/2, (2, 3, 6): 5/2, (2, 3, 6, 7): 7/2, (2, 3, 6, 7, 8): 7/2, (2, 3, 6, 8): 7/2, (2, 3, 7): 5/2, (2, 3, 7, 8): 7/2, (2, 3, 8): 5/2, (2, 4): 2, (2, 4, 5): 5/2, (2, 4, 5, 6): 7/2, (2, 4, 5, 6, 7): 9/2, (2, 4, 5, 6, 7, 8): 9/2, (2, 4, 5, 6, 8): 9/2, (2, 4, 5, 7): 7/2, (2, 4, 5, 7, 8): 9/2, (2, 4, 5, 8): 7/2, (2, 4, 6): 3, (2, 4, 6, 7): 4, (2, 4, 6, 7, 8): 4, (2, 4, 6, 8): 4, (2, 4, 7): 3, (2, 4, 7, 8): 4, (2, 4, 8): 3, (2, 5): 2, (2, 5, 6): 3, (2, 5, 6, 7): 4, (2, 5, 6, 7, 8): 4, (2, 5, 6, 8): 4, (2, 5, 7): 3, (2, 5, 7, 8): 4, (2, 5, 8): 3, (2, 6): 2, (2, 6, 7): 3, (2, 6, 7, 8): 3, (2, 6, 8): 3, (2, 7): 2, (2, 7, 8): 3, (2, 8): 2, (3,): 1, (3, 4): 3/2, (3, 4, 5): 2, (3, 4, 5, 6): 3, (3, 4, 5, 6, 7): 4, (3, 4, 5, 6, 7, 8): 4, (3, 4, 5, 6, 8): 4, (3, 4, 5, 7): 3, (3, 4, 5, 7, 8): 4, (3, 4, 5, 8): 3, (3, 4, 6): 5/2, (3, 4, 6, 7): 7/2, (3, 4, 6, 7, 8): 7/2, (3, 4, 6, 8): 7/2, (3, 4, 7): 5/2, (3, 4, 7, 8): 7/2, (3, 4, 8): 5/2, (3, 5): 2, (3, 5, 6): 3, (3, 5, 6, 7): 4, (3, 5, 6, 7, 8): 4, (3, 5, 6, 8): 4, (3, 5, 7): 3, (3, 5, 7, 8): 4, (3, 5, 8): 3, (3, 6): 2, (3, 6, 7): 3, (3, 6, 7, 8): 3, (3, 6, 8): 3, (3, 7): 2, (3, 7, 8): 3, (3, 8): 2, (4,): 1, (4, 5): 3/2, (4, 5, 6): 5/2, (4, 5, 6, 7): 7/2, (4, 5, 6, 7, 8): 7/2, (4, 5, 6, 8): 7/2, (4, 5, 7): 5/2, (4, 5, 7, 8): 7/2, (4, 5, 8): 5/2, (4, 6): 2, (4, 6, 7): 3, (4, 6, 7, 8): 3, (4, 6, 8): 3, (4, 7): 2, (4, 7, 8): 3, (4, 8): 2, (5,): 1, (5, 6): 2, (5, 6, 7): 3, (5, 6, 7, 8): 3, (5, 6, 8): 3, (5, 7): 2, (5, 7, 8): 3, (5, 8): 2, (6,): 1, (6, 7): 2, (6, 7, 8): 2, (6, 8): 2, (7,): 1, (7, 8): 2, (8,): 1}\n"
     ]
    },
    {
     "data": {
      "text/plain": [
       "True"
      ]
     },
     "execution_count": 23,
     "metadata": {},
     "output_type": "execute_result"
    }
   ],
   "source": [
    "run_lps(G9)"
   ]
  },
  {
   "cell_type": "code",
   "execution_count": null,
   "metadata": {},
   "outputs": [],
   "source": []
  }
 ],
 "metadata": {
  "kernelspec": {
   "display_name": "Python 3",
   "language": "python",
   "name": "python3"
  },
  "language_info": {
   "codemirror_mode": {
    "name": "ipython",
    "version": 3
   },
   "file_extension": ".py",
   "mimetype": "text/x-python",
   "name": "python",
   "nbconvert_exporter": "python",
   "pygments_lexer": "ipython3",
   "version": "3.7.2"
  }
 },
 "nbformat": 4,
 "nbformat_minor": 1
}
