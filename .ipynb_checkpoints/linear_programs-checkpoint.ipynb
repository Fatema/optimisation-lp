{
 "cells": [
  {
   "cell_type": "code",
   "execution_count": 1,
   "metadata": {},
   "outputs": [],
   "source": [
    "import numpy as np\n",
    "from scipy.optimize import linprog"
   ]
  },
  {
   "cell_type": "markdown",
   "metadata": {},
   "source": [
    "# Linear Program for fractional clique number"
   ]
  },
  {
   "cell_type": "markdown",
   "metadata": {},
   "source": [
    "Define a function to return all possible subsests for list of vertices V"
   ]
  },
  {
   "cell_type": "code",
   "execution_count": 73,
   "metadata": {},
   "outputs": [],
   "source": [
    "def subsets(V, prefix=[], arr_sets=[]):\n",
    "    if V == []: return\n",
    "    for i in range(len(V)):\n",
    "        subset = prefix + [V[i]]\n",
    "        arr_sets += [subset]\n",
    "        subsets(V[i+1:], subset, arr_sets)"
   ]
  },
  {
   "cell_type": "code",
   "execution_count": 75,
   "metadata": {},
   "outputs": [],
   "source": [
    "def check_clique(graph, v_set):\n",
    "    if len(v_set) < 2: return True\n",
    "    for i in range(len(v_set)):\n",
    "        i_set = set(v_set[:i] + v_set[i+1:])\n",
    "        g_set = graph[v_set[i]]\n",
    "        if i_set & g_set != i_set :\n",
    "            return False\n",
    "    return True"
   ]
  },
  {
   "cell_type": "code",
   "execution_count": 76,
   "metadata": {},
   "outputs": [],
   "source": [
    "def A_clique_set(graph, v_encode, subsets, A=[]):\n",
    "    for subset in subsets:\n",
    "        if check_clique(graph, subset):\n",
    "            A += [sum([v_encode[v] for v in subset])]"
   ]
  },
  {
   "cell_type": "code",
   "execution_count": 77,
   "metadata": {},
   "outputs": [],
   "source": [
    "def lp_clique(graph):\n",
    "    V = list(graph.keys())\n",
    "    v_encode = {}\n",
    "    v_num = len(V)\n",
    "    \n",
    "    for i in range(v_num):\n",
    "        temp = np.zeros(v_num)\n",
    "        temp[i] = -1\n",
    "        v_encode[V[i]] = temp\n",
    "    \n",
    "    arr_sets = []\n",
    "    subsets(V, arr_sets=arr_sets)\n",
    "    \n",
    "    b_clique = np.negative(np.ones(v_num))\n",
    "    A_clique = []\n",
    "    A_clique_set(graph, v_encode, arr_sets,A=A_clique)\n",
    "    A_clique = np.transpose(np.array(A_clique))\n",
    "    c_clique = np.ones(A_clique.shape[1])\n",
    "    \n",
    "    res = linprog(c_clique, A_ub=A_clique, b_ub=b_clique, bounds=(0, None))\n",
    "    return res, A_clique"
   ]
  },
  {
   "cell_type": "markdown",
   "metadata": {},
   "source": [
    "# Linear Program for Shannon entropy"
   ]
  },
  {
   "cell_type": "code",
   "execution_count": 79,
   "metadata": {},
   "outputs": [],
   "source": [
    "def subsets_dict(V, prefix=[], arr_sets={}):\n",
    "    if V == []: return 1\n",
    "    for i in range(len(V)):\n",
    "        subset = prefix + [V[i]]\n",
    "        arr_sets[tuple(subset)] = len(arr_sets)\n",
    "        subsets_dict(V[i+1:], subset, arr_sets)"
   ]
  },
  {
   "cell_type": "code",
   "execution_count": 80,
   "metadata": {},
   "outputs": [],
   "source": [
    "def A_entropy_set(V, subsets_dict, A=[], b=[]):\n",
    "    num_sets = len(subsets_dict)\n",
    "    for subset in subsets_dict:\n",
    "        subset_len = len(subset)\n",
    "        subset_i = subsets_dict[subset]\n",
    "        a_lq = np.zeros(num_sets)\n",
    "        if subset_len > 1:\n",
    "            a_lq[subset_i] = -1 * (subset_len)\n",
    "            a_mq = np.zeros(num_sets)\n",
    "            a_mq[subset_i] = subset_len - 1\n",
    "            s = set(subset)\n",
    "            for v in subset:\n",
    "                sub_i = subsets_dict[tuple(x for x in subset if v != x)]\n",
    "                a_lq[sub_i] = 1    \n",
    "                a_mq[sub_i] = -1\n",
    "            A += [a_lq, a_mq]\n",
    "            b += [0, 0]\n",
    "        else:\n",
    "            a_lq[subset_i] = 1\n",
    "            A += [a_lq]\n",
    "            b += [1]"
   ]
  },
  {
   "cell_type": "code",
   "execution_count": 103,
   "metadata": {},
   "outputs": [],
   "source": [
    "def A_entropy_eq_set(graph, subsets_dict, A=[]):\n",
    "    num_sets = len(subsets_dict)\n",
    "    for v in graph:\n",
    "        n = tuple(graph[v])\n",
    "        n_v = tuple(set(graph[v]) | {v})\n",
    "        a_eq = np.zeros(num_sets)\n",
    "        a_eq[subsets_dict[n_v]] = 1\n",
    "        if len(n) > 0: \n",
    "            a_eq[subsets_dict[n]] = -1\n",
    "        A += [a_eq]"
   ]
  },
  {
   "cell_type": "code",
   "execution_count": 106,
   "metadata": {},
   "outputs": [],
   "source": [
    "def lp_entropy(graph):\n",
    "    V = list(graph.keys())\n",
    "    v_encode = {}\n",
    "    v_num = len(V)\n",
    "    \n",
    "    for i in range(v_num):\n",
    "        temp = np.zeros(v_num)\n",
    "        temp[i] = -1\n",
    "        v_encode[V[i]] = temp\n",
    "    \n",
    "    arr_sets = {}\n",
    "    subsets_dict(V, arr_sets=arr_sets)\n",
    "    \n",
    "    A_entropy = []\n",
    "    b_entropy = []\n",
    "    A_entropy_set(V, arr_sets, A=A_entropy, b=b_entropy)\n",
    "    A_entropy = np.array(A_entropy)\n",
    "    b_entropy = np.array(b_entropy, dtype=float)\n",
    "    \n",
    "    A_entropy_eq = []\n",
    "    A_entropy_eq_set(graph, arr_sets, A=A_entropy_eq)\n",
    "    A_entropy_eq = np.array(A_entropy_eq)\n",
    "    b_entropy_eq = np.zeros(A_entropy_eq.shape[0])\n",
    "    \n",
    "    c_clique = np.zeros(len(arr_sets))\n",
    "    c_clique[arr_sets[tuple(V)]] = -1\n",
    "    \n",
    "    res = linprog(c_clique, A_ub=A_entropy, b_ub=b_entropy, A_eq=A_entropy_eq, b_eq=b_entropy_eq, bounds=(0, None))\n",
    "    \n",
    "    return arr_sets, A_entropy, b_entropy, A_entropy_eq, b_entropy_eq, c_clique, res"
   ]
  },
  {
   "cell_type": "markdown",
   "metadata": {},
   "source": [
    "# Sample Graphs"
   ]
  },
  {
   "cell_type": "code",
   "execution_count": 66,
   "metadata": {},
   "outputs": [],
   "source": [
    "G1 = {1:set({}), 2:set({}), 3:set({})}\n",
    "G2 = {1:{2}, 2:{1}, 3:{}}\n",
    "G3 = {1:{2}, 2:{1,3}, 3:{2}}\n",
    "G4 = {1:{2,3}, 2:{1,3}, 3:{1,2}}"
   ]
  },
  {
   "cell_type": "code",
   "execution_count": 78,
   "metadata": {},
   "outputs": [
    {
     "data": {
      "text/plain": [
       "(     con: array([], dtype=float64)\n",
       "     fun: 1.0\n",
       " message: 'Optimization terminated successfully.'\n",
       "     nit: 3\n",
       "   slack: array([0., 0., 0.])\n",
       "  status: 0\n",
       " success: True\n",
       "       x: array([0., 0., 1., 0., 0., 0., 0.]),\n",
       " array([[-1., -1., -1., -1.,  0.,  0.,  0.],\n",
       "        [ 0., -1., -1.,  0., -1., -1.,  0.],\n",
       "        [ 0.,  0., -1., -1.,  0., -1., -1.]]))"
      ]
     },
     "execution_count": 78,
     "metadata": {},
     "output_type": "execute_result"
    }
   ],
   "source": [
    "lp_clique(G4)"
   ]
  },
  {
   "cell_type": "code",
   "execution_count": 111,
   "metadata": {},
   "outputs": [
    {
     "data": {
      "text/plain": [
       "({(1,): 0, (1, 2): 1, (1, 2, 3): 2, (1, 3): 3, (2,): 4, (2, 3): 5, (3,): 6},\n",
       " array([[ 1., -2.,  0.,  0.,  1.,  0.,  0.],\n",
       "        [-1.,  1.,  0.,  0., -1.,  0.,  0.],\n",
       "        [ 1.,  0.,  0., -2.,  0.,  0.,  1.],\n",
       "        [-1.,  0.,  0.,  1.,  0.,  0., -1.],\n",
       "        [ 1.,  0.,  0.,  0.,  0.,  0.,  0.],\n",
       "        [ 0.,  0.,  0.,  0.,  1.,  0.,  0.],\n",
       "        [ 0.,  0.,  0.,  0.,  0.,  0.,  1.],\n",
       "        [ 0.,  1., -3.,  1.,  0.,  1.,  0.],\n",
       "        [ 0., -1.,  2., -1.,  0., -1.,  0.],\n",
       "        [ 0.,  0.,  0.,  0.,  1., -2.,  1.],\n",
       "        [ 0.,  0.,  0.,  0., -1.,  1., -1.]]),\n",
       " array([0., 0., 0., 0., 1., 1., 1., 0., 0., 0., 0.]),\n",
       " array([[ 0.,  0.,  1.,  0.,  0., -1.,  0.],\n",
       "        [ 0.,  0.,  1., -1.,  0.,  0.,  0.],\n",
       "        [ 0., -1.,  1.,  0.,  0.,  0.,  0.]]),\n",
       " array([0., 0., 0.]),\n",
       " array([ 0.,  0., -1.,  0.,  0.,  0.,  0.]),\n",
       "      con: array([ 0.0000000e+00,  0.0000000e+00, -8.8817842e-16])\n",
       "     fun: -2.0000000000000004\n",
       " message: 'Optimization terminated successfully.'\n",
       "     nit: 17\n",
       "   slack: array([ 2.00000000e+00,  4.44089210e-16,  2.00000000e+00, -4.44089210e-16,\n",
       "        0.00000000e+00,  0.00000000e+00,  0.00000000e+00,  1.77635684e-15,\n",
       "        2.00000000e+00,  2.00000000e+00, -4.44089210e-16])\n",
       "  status: 0\n",
       " success: True\n",
       "       x: array([1., 2., 2., 2., 1., 2., 1.]))"
      ]
     },
     "execution_count": 111,
     "metadata": {},
     "output_type": "execute_result"
    }
   ],
   "source": [
    "lp_entropy(G4)"
   ]
  },
  {
   "cell_type": "code",
   "execution_count": null,
   "metadata": {},
   "outputs": [],
   "source": []
  }
 ],
 "metadata": {
  "kernelspec": {
   "display_name": "Python 2",
   "language": "python",
   "name": "python2"
  },
  "language_info": {
   "codemirror_mode": {
    "name": "ipython",
    "version": 2
   },
   "file_extension": ".py",
   "mimetype": "text/x-python",
   "name": "python",
   "nbconvert_exporter": "python",
   "pygments_lexer": "ipython2",
   "version": "2.7.15"
  }
 },
 "nbformat": 4,
 "nbformat_minor": 1
}
